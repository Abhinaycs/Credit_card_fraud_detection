{
  "nbformat": 4,
  "nbformat_minor": 0,
  "metadata": {
    "colab": {
      "provenance": [],
      "gpuType": "T4"
    },
    "kernelspec": {
      "name": "python3",
      "display_name": "Python 3"
    },
    "language_info": {
      "name": "python"
    },
    "accelerator": "GPU"
  },
  "cells": [
    {
      "cell_type": "code",
      "execution_count": null,
      "metadata": {
        "id": "0aBgsZtvXmCL"
      },
      "outputs": [],
      "source": [
        "# import pandas as pd\n",
        "# import numpy as np\n",
        "# import pickle\n",
        "# import joblib\n",
        "# from imblearn.over_sampling import SMOTE\n",
        "# from sklearn.model_selection import train_test_split, RandomizedSearchCV\n",
        "# from sklearn.preprocessing import MinMaxScaler\n",
        "# from sklearn.ensemble import RandomForestClassifier, GradientBoostingClassifier, VotingClassifier\n",
        "# from sklearn.linear_model import LogisticRegression\n",
        "# from tensorflow.keras.models import Sequential\n",
        "# from tensorflow.keras.layers import Dense, Dropout, BatchNormalization\n",
        "# from tensorflow.keras.optimizers import Adam\n",
        "# from tensorflow.keras.callbacks import EarlyStopping\n",
        "\n",
        "# # Load Data\n",
        "# data = pd.read_csv('creditcard_2023.csv')\n",
        "# data = data.drop(['Time'], axis=1)\n",
        "\n",
        "# # Define Features & Target\n",
        "# X = data.drop(['Class'], axis=1)\n",
        "# y = data['Class']\n",
        "\n",
        "# # Split Data (Prevent Data Leakage)\n",
        "# X_train, X_test, y_train, y_test = train_test_split(X, y, test_size=0.2, random_state=42, stratify=y)\n",
        "\n",
        "# # Scale Data\n",
        "# scaler = MinMaxScaler()\n",
        "# X_train_scaled = scaler.fit_transform(X_train)\n",
        "# X_test_scaled = scaler.transform(X_test)\n",
        "\n",
        "# # Apply SMOTE (After Splitting)\n",
        "# smote = SMOTE(random_state=42)\n",
        "# X_train_resampled, y_train_resampled = smote.fit_resample(X_train_scaled, y_train)\n",
        "\n",
        "# # Hyperparameter Tuning (RandomizedSearchCV)\n",
        "# param_grid = {\n",
        "#     'n_estimators': [50, 100, 200, 300],\n",
        "#     'learning_rate': [0.001, 0.01, 0.05, 0.1, 0.2],\n",
        "#     'max_depth': [3, 5, 7, 9],\n",
        "#     'subsample': [0.7, 0.85, 1.0]\n",
        "# }\n",
        "\n",
        "# random_search = RandomizedSearchCV(GradientBoostingClassifier(), param_grid, n_iter=20, cv=5, n_jobs=-1, random_state=42)\n",
        "# random_search.fit(X_train_resampled, y_train_resampled)\n",
        "# gradient_boost_clf = random_search.best_estimator_\n",
        "\n",
        "# # Voting Classifier (Balanced Weights)\n",
        "# voting_clf = VotingClassifier(\n",
        "#     estimators=[\n",
        "#         ('gradient_boost', gradient_boost_clf),\n",
        "#         ('random_forest', RandomForestClassifier(n_estimators=100, class_weight='balanced')),\n",
        "#         ('logistic', LogisticRegression(max_iter=1000))\n",
        "#     ],\n",
        "#     voting='soft',\n",
        "#     weights=[3, 2, 1]\n",
        "# )\n",
        "# voting_clf.fit(X_train_resampled, y_train_resampled)\n",
        "\n",
        "# # Deep Learning Model\n",
        "# model = Sequential([\n",
        "#     Dense(128, activation='relu', input_dim=X_train_scaled.shape[1]),\n",
        "#     BatchNormalization(),\n",
        "#     Dropout(0.3),\n",
        "#     Dense(64, activation='relu'),\n",
        "#     BatchNormalization(),\n",
        "#     Dropout(0.3),\n",
        "#     Dense(32, activation='relu'),\n",
        "#     Dense(1, activation='sigmoid')\n",
        "# ])\n",
        "\n",
        "# model.compile(optimizer=Adam(learning_rate=0.001), loss='binary_crossentropy', metrics=['Recall'])\n",
        "\n",
        "# early_stop = EarlyStopping(monitor='val_loss', patience=5, restore_best_weights=True)\n",
        "\n",
        "# model.fit(X_train_resampled, y_train_resampled, epochs=50, batch_size=64, validation_split=0.2, callbacks=[early_stop])\n",
        "\n",
        "# # Save Models\n",
        "# model.save('optimized_fraud_model.h5')\n",
        "# joblib.dump(voting_clf, 'voting_clf.pkl')\n"
      ]
    },
    {
      "cell_type": "code",
      "source": [
        "import pandas as pd\n",
        "import numpy as np\n",
        "import pickle\n",
        "import joblib\n",
        "from imblearn.over_sampling import SMOTE\n",
        "from sklearn.model_selection import train_test_split, RandomizedSearchCV\n",
        "from sklearn.preprocessing import MinMaxScaler\n",
        "from sklearn.ensemble import RandomForestClassifier, GradientBoostingClassifier, VotingClassifier\n",
        "from sklearn.linear_model import LogisticRegression\n",
        "from tensorflow.keras.models import Sequential\n",
        "from tensorflow.keras.layers import Dense, Dropout, BatchNormalization\n",
        "from tensorflow.keras.optimizers import Adam\n",
        "from tensorflow.keras.callbacks import EarlyStopping"
      ],
      "metadata": {
        "id": "xE07v95tYLVk"
      },
      "execution_count": null,
      "outputs": []
    },
    {
      "cell_type": "code",
      "source": [
        "# Load Data\n",
        "data = pd.read_csv('creditcard_2023.csv')\n",
        "#data = data.drop(['Time'], axis=1)"
      ],
      "metadata": {
        "id": "eSh_BS9rYMzY"
      },
      "execution_count": null,
      "outputs": []
    },
    {
      "cell_type": "code",
      "source": [
        "# Define Features & Target\n",
        "X = data.drop(['Class'], axis=1)\n",
        "y = data['Class']"
      ],
      "metadata": {
        "id": "ISZFM3y4YMys"
      },
      "execution_count": null,
      "outputs": []
    },
    {
      "cell_type": "code",
      "source": [
        "# Split Data (Prevent Data Leakage)\n",
        "X_train, X_test, y_train, y_test = train_test_split(X, y, test_size=0.2, random_state=42, stratify=y)"
      ],
      "metadata": {
        "id": "ySNALdL9YMx-"
      },
      "execution_count": null,
      "outputs": []
    },
    {
      "cell_type": "code",
      "source": [
        "# Scale Data\n",
        "scaler = MinMaxScaler()\n",
        "X_train_scaled = scaler.fit_transform(X_train)\n",
        "X_test_scaled = scaler.transform(X_test)\n"
      ],
      "metadata": {
        "id": "64w4v_6daEnT"
      },
      "execution_count": null,
      "outputs": []
    },
    {
      "cell_type": "code",
      "source": [
        "\n",
        "# Apply SMOTE (After Splitting)\n",
        "smote = SMOTE(random_state=42)\n",
        "X_train_resampled, y_train_resampled = smote.fit_resample(X_train_scaled, y_train)"
      ],
      "metadata": {
        "id": "glFzSu1AaEgM"
      },
      "execution_count": null,
      "outputs": []
    },
    {
      "cell_type": "code",
      "source": [
        "# Hyperparameter Tuning (RandomizedSearchCV)\n",
        "param_grid = {\n",
        "    'n_estimators': [50, 100, 200, 300],\n",
        "    'learning_rate': [0.001, 0.01, 0.05, 0.1, 0.2],\n",
        "    'max_depth': [3, 5, 7, 9],\n",
        "    'subsample': [0.7, 0.85, 1.0]\n",
        "}\n",
        "random_search = RandomizedSearchCV(GradientBoostingClassifier(), param_grid, n_iter=20, cv=5, n_jobs=-1, random_state=42)\n",
        "random_search.fit(X_train_resampled, y_train_resampled)\n",
        "gradient_boost_clf = random_search.best_estimator_"
      ],
      "metadata": {
        "id": "7WyOrEf0YMxK"
      },
      "execution_count": null,
      "outputs": []
    },
    {
      "cell_type": "code",
      "source": [
        "# Voting Classifier (Balanced Weights)\n",
        "voting_clf = VotingClassifier(\n",
        "    estimators=[\n",
        "        ('gradient_boost', gradient_boost_clf),\n",
        "        ('random_forest', RandomForestClassifier(n_estimators=100, class_weight='balanced')),\n",
        "        ('logistic', LogisticRegression(max_iter=1000))\n",
        "    ],\n",
        "    voting='soft',\n",
        "    weights=[3, 2, 1]\n",
        ")\n",
        "voting_clf.fit(X_train_resampled, y_train_resampled)"
      ],
      "metadata": {
        "id": "4ssqJ9tkYmOL"
      },
      "execution_count": null,
      "outputs": []
    },
    {
      "cell_type": "code",
      "source": [
        "# Deep Learning Model\n",
        "model = Sequential([\n",
        "    Dense(128, activation='relu', input_dim=X_train_scaled.shape[1]),\n",
        "    BatchNormalization(),\n",
        "    Dropout(0.3),\n",
        "    Dense(64, activation='relu'),\n",
        "    BatchNormalization(),\n",
        "    Dropout(0.3),\n",
        "    Dense(32, activation='relu'),\n",
        "    Dense(1, activation='sigmoid')\n",
        "])"
      ],
      "metadata": {
        "id": "mhPeV-ArYmKq"
      },
      "execution_count": null,
      "outputs": []
    },
    {
      "cell_type": "code",
      "source": [
        "model.compile(optimizer=Adam(learning_rate=0.001), loss='binary_crossentropy', metrics=['Recall'])\n"
      ],
      "metadata": {
        "id": "3zUXgnyzYmHr"
      },
      "execution_count": null,
      "outputs": []
    },
    {
      "cell_type": "code",
      "source": [
        "early_stop = EarlyStopping(monitor='val_loss', patience=5, restore_best_weights=True)\n"
      ],
      "metadata": {
        "id": "k8iwN8YHY_yJ"
      },
      "execution_count": null,
      "outputs": []
    },
    {
      "cell_type": "code",
      "source": [
        "model.fit(X_train_resampled, y_train_resampled, epochs=50, batch_size=64, validation_split=0.2, callbacks=[early_stop])\n"
      ],
      "metadata": {
        "id": "NsbFSAmBZExf"
      },
      "execution_count": null,
      "outputs": []
    },
    {
      "cell_type": "code",
      "source": [
        "# Save Models\n",
        "model.save('optimized_fraud_model.h5')\n",
        "joblib.dump(voting_clf, 'voting_clf.pkl')"
      ],
      "metadata": {
        "id": "3jK4fbutZEuH"
      },
      "execution_count": null,
      "outputs": []
    }
  ]
}